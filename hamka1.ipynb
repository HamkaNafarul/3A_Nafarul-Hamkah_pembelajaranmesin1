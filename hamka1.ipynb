{
 "cells": [
  {
   "cell_type": "code",
   "execution_count": 1,
   "metadata": {},
   "outputs": [
    {
     "name": "stdout",
     "output_type": "stream",
     "text": [
      "Data Asli\n",
      "[[100, 0.001], [8, 0.05], [50, 0.005], [88, 0.07], [4, 0.1]]\n",
      "Data transfrom hasil normalisasi\n",
      "[[1.         0.        ]\n",
      " [0.04166667 0.49494949]\n",
      " [0.47916667 0.04040404]\n",
      " [0.875      0.6969697 ]\n",
      " [0.         1.        ]]\n"
     ]
    }
   ],
   "source": [
    "from numpy import asarray\n",
    "from sklearn.preprocessing import MinMaxScaler\n",
    "\n",
    "data = [[100, 0.001],\n",
    "        [8, 0.05],\n",
    "        [50, 0.005],\n",
    "        [88, 0.07],\n",
    "        [4, 0.1]]\n",
    "\n",
    "print(\"Data Asli\")\n",
    "print(data)\n",
    "\n",
    "scaler = MinMaxScaler()\n",
    "\n",
    "print(\"Data transfrom hasil normalisasi\")\n",
    "\n",
    "scaled = scaler.fit_transform(data)\n",
    "print(scaled)\n"
   ]
  },
  {
   "cell_type": "code",
   "execution_count": 5,
   "metadata": {},
   "outputs": [
    {
     "ename": "SyntaxError",
     "evalue": "'return' outside function (1928141653.py, line 11)",
     "output_type": "error",
     "traceback": [
      "\u001b[1;36m  Input \u001b[1;32mIn [5]\u001b[1;36m\u001b[0m\n\u001b[1;33m    return data\u001b[0m\n\u001b[1;37m    ^\u001b[0m\n\u001b[1;31mSyntaxError\u001b[0m\u001b[1;31m:\u001b[0m 'return' outside function\n"
     ]
    }
   ],
   "source": [
    "#Manual Normalization\n",
    "\n",
    "def norm_manual(data):\n",
    "    n_max = max(data)\n",
    "    n_min = min(data)\n",
    "    l_data = len(data) #panjang data\n",
    "    \n",
    "    for i in range(0, l_data):\n",
    "        data[i] = (data[i]- n_min) / (n_max - n_min)\n",
    "   \n",
    "return data"
   ]
  },
  {
   "cell_type": "code",
   "execution_count": 6,
   "metadata": {},
   "outputs": [
    {
     "name": "stdout",
     "output_type": "stream",
     "text": [
      "Data Asli\n",
      "[[100, 0.001], [8, 0.05], [50, 0.005], [88, 0.07], [4, 0.1]]\n",
      "Data transfrom hasil normalisasi\n",
      "[[ 1.26398112 -1.16389967]\n",
      " [-1.06174414  0.12639634]\n",
      " [ 0.         -1.05856939]\n",
      " [ 0.96062565  0.65304778]\n",
      " [-1.16286263  1.44302493]]\n"
     ]
    }
   ],
   "source": [
    "from numpy import asarray\n",
    "from sklearn.preprocessing import StandardScaler\n",
    "\n",
    "data = [[100, 0.001],\n",
    "        [8, 0.05],\n",
    "        [50, 0.005],\n",
    "        [88, 0.07],\n",
    "        [4, 0.1]]\n",
    "\n",
    "print(\"Data Asli\")\n",
    "print(data)\n",
    "\n",
    "scaler = StandardScaler()\n",
    "\n",
    "print(\"Data transfrom hasil normalisasi\")\n",
    "\n",
    "scaled = scaler.fit_transform(data)\n",
    "print(scaled)"
   ]
  },
  {
   "cell_type": "code",
   "execution_count": 7,
   "metadata": {},
   "outputs": [
    {
     "name": "stdout",
     "output_type": "stream",
     "text": [
      "[[3.]\n",
      " [0.]\n",
      " [2.]\n",
      " [4.]\n",
      " [1.]]\n"
     ]
    }
   ],
   "source": [
    "from sklearn.preprocessing import OrdinalEncoder\n",
    "ordinal_encoder = OrdinalEncoder()\n",
    "\n",
    "oe = [\n",
    "    ['State Polytechnics of Malang'],\n",
    "    ['Electronic State Polytechnics of Surabaya'],\n",
    "    ['State Polytechnics of Jakarta '],\n",
    "    ['State Polytechnics of Padang'],\n",
    "    ['State Polytechnics of Bandung']\n",
    "    ]\n",
    "\n",
    "print(ordinal_encoder.fit_transform(oe))"
   ]
  },
  {
   "cell_type": "code",
   "execution_count": 8,
   "metadata": {},
   "outputs": [
    {
     "name": "stdout",
     "output_type": "stream",
     "text": [
      "[[0. 0. 0. 1. 0.]\n",
      " [1. 0. 0. 0. 0.]\n",
      " [0. 0. 1. 0. 0.]\n",
      " [0. 0. 0. 0. 1.]\n",
      " [0. 1. 0. 0. 0.]]\n"
     ]
    }
   ],
   "source": [
    "from sklearn.feature_extraction import DictVectorizer\n",
    "onehot_encoder = DictVectorizer()\n",
    "\n",
    "oe = [\n",
    "    {'name' : 'State Polytechnics of Malang'},\n",
    "    {'name' :'Electronic State Polytechnics of Surabaya'},\n",
    "    {'name' :'State Polytechnics of Jakarta '},\n",
    "    {'name' :'State Polytechnics of Padang'},\n",
    "    {'name' :'State Polytechnics of Bandung'}\n",
    "    ]\n",
    "\n",
    "print(onehot_encoder.fit_transform(oe).toarray())"
   ]
  },
  {
   "cell_type": "code",
   "execution_count": 9,
   "metadata": {},
   "outputs": [
    {
     "name": "stdout",
     "output_type": "stream",
     "text": [
      "[[0. 1.]\n",
      " [0. 0.]\n",
      " [1. 0.]]\n"
     ]
    }
   ],
   "source": [
    "from sklearn.preprocessing import OneHotEncoder\n",
    "dummy_encoding = OneHotEncoder(drop = 'first')\n",
    "\n",
    "de = [\n",
    "    ['State Polytechnics of Malang'],\n",
    "    ['Electronic State Polytechnics of Surabaya'],\n",
    "    ['State Polytechnics of Jakarta ']\n",
    "    ]\n",
    "\n",
    "print(dummy_encoding.fit_transform(de).toarray())"
   ]
  },
  {
   "cell_type": "code",
   "execution_count": 10,
   "metadata": {},
   "outputs": [],
   "source": [
    "corpus = [\n",
    "    'the house had a tiny little mouse',\n",
    "    'the cat saw the mouse',\n",
    "    'the mouse ran away from the house',\n",
    "    'the cat finally ate the mouse',\n",
    "    'the end of the mouse story'\n",
    "]"
   ]
  },
  {
   "cell_type": "code",
   "execution_count": 11,
   "metadata": {},
   "outputs": [
    {
     "name": "stdout",
     "output_type": "stream",
     "text": [
      "  (0, 7)\t0.2808823162882302\n",
      "  (0, 6)\t0.5894630806320427\n",
      "  (0, 11)\t0.5894630806320427\n",
      "  (0, 5)\t0.47557510189256375\n",
      "  (1, 9)\t0.7297183669435993\n",
      "  (1, 2)\t0.5887321837696324\n",
      "  (1, 7)\t0.3477147117091919\n",
      "  (2, 1)\t0.5894630806320427\n",
      "  (2, 8)\t0.5894630806320427\n",
      "  (2, 7)\t0.2808823162882302\n",
      "  (2, 5)\t0.47557510189256375\n",
      "  (3, 0)\t0.5894630806320427\n",
      "  (3, 4)\t0.5894630806320427\n",
      "  (3, 2)\t0.47557510189256375\n",
      "  (3, 7)\t0.2808823162882302\n",
      "  (4, 10)\t0.6700917930430479\n",
      "  (4, 3)\t0.6700917930430479\n",
      "  (4, 7)\t0.3193023297639811\n"
     ]
    }
   ],
   "source": [
    "from urllib import response\n",
    "from sklearn.feature_extraction.text import TfidfVectorizer\n",
    "\n",
    "vectorizer = TfidfVectorizer(stop_words='english')\n",
    "response = vectorizer.fit_transform(corpus)\n",
    "print(response)"
   ]
  },
  {
   "cell_type": "code",
   "execution_count": 12,
   "metadata": {},
   "outputs": [
    {
     "name": "stderr",
     "output_type": "stream",
     "text": [
      "c:\\Users\\Nafarul Hamka\\anaconda4\\lib\\site-packages\\sklearn\\utils\\deprecation.py:87: FutureWarning: Function get_feature_names is deprecated; get_feature_names is deprecated in 1.0 and will be removed in 1.2. Please use get_feature_names_out instead.\n",
      "  warnings.warn(msg, category=FutureWarning)\n"
     ]
    },
    {
     "data": {
      "text/plain": [
       "['ate',\n",
       " 'away',\n",
       " 'cat',\n",
       " 'end',\n",
       " 'finally',\n",
       " 'from',\n",
       " 'had',\n",
       " 'house',\n",
       " 'little',\n",
       " 'mouse',\n",
       " 'of',\n",
       " 'ran',\n",
       " 'saw',\n",
       " 'story',\n",
       " 'the',\n",
       " 'tiny']"
      ]
     },
     "execution_count": 12,
     "metadata": {},
     "output_type": "execute_result"
    }
   ],
   "source": [
    "from sklearn.feature_extraction.text import CountVectorizer\n",
    "vectorizer = CountVectorizer()\n",
    "corpus = ['the house had a tiny little mouse',\n",
    "    'the cat saw the mouse',\n",
    "    'the mouse ran away from the house',\n",
    "    'the cat finally ate the mouse',\n",
    "    'the end of the mouse story']\n",
    "\n",
    "X = vectorizer.fit_transform(corpus)\n",
    "\n",
    "features = vectorizer.get_feature_names()\n",
    "\n",
    "features"
   ]
  },
  {
   "cell_type": "code",
   "execution_count": 15,
   "metadata": {},
   "outputs": [
    {
     "name": "stdout",
     "output_type": "stream",
     "text": [
      "[]\n",
      "\n",
      "['000', '10', '12th', '14', '1869', '1870', '1878', '1883', '1oth', '2d', '313', '4th', '5024', '5517', '558', '7th', '82', '83', '84', '85', '87', '90', '9th', 'abjure', 'able', 'abound', 'absence', 'absolute', 'abuse', 'accident', 'accidental', 'accidents', 'accomplishment', 'account', 'accurately', 'accused', 'act', 'acted', 'addressed', 'ado', 'advantages', 'adventure', 'adventures', 'advice', 'advise', 'advised', 'affair', 'affairs', 'afraid', 'agitation', 'ago', 'ah', 'aid', 'air', 'alarm', 'albert', 'allowed', 'amateur', 'america', 'american', 'americans', 'amid', 'analysis', 'analytical', 'anatomy', 'anderson', 'angry', 'animal', 'answer', 'answered', 'anxiety', 'anxiously', 'apology', 'appeal', 'appears', 'archive', 'argue', 'arm', 'armed', 'arms', 'army', 'arrived', 'art', 'ary', 'ascended', 'ashes', 'ask', 'asked', 'assert', 'assume', 'astronomy', 'atlantic', 'attain', 'attention', 'attic', 'attics', 'attracted', 'augustine', 'authorities', 'aversion', 'await', 'away', 'awful', 'backgammon', 'badge', 'badly', 'baffled', 'bag', 'baker', 'bank', 'bar', 'bark', 'bars', 'basin', 'bbs', 'bearing', 'bearings', 'beasts', 'beaten', 'bed', 'beg', 'began', 'begged', 'beginning', 'beginnings', 'begun', 'believe', 'bell', 'belonged', 'bending', 'beneath', 'bent', 'best', 'better', 'bicycling', 'bills', 'bite', 'black', 'blance', 'blaze', 'blend', 'blow', 'blown', 'blue', 'board', 'boat', 'body', 'bone', 'book', 'books', 'born', 'borne', 'botany', 'bound', 'box', 'boxer', 'boy', 'brain', 'brance', 'branches', 'brandy', 'brass', 'brave', 'braved', 'braving', 'brazen', 'breakfast', 'breaking', 'bridge', 'brightly', 'brightness', 'bring', 'bringing', 'british', 'brother', 'brought', 'bull', 'bundles', 'burned', 'burning', 'burst', 'business', 'busy', 'cable', 'cage', 'calhoun', 'called', 'calling', 'calmly', 'camberwell', 'came', 'caps', 'captain', 'cards', 'care', 'career', 'careful', 'carefully', 'cargo', 'carolinas', 'carpet', 'carried', 'carry', 'carved', 'case', 'cases', 'cashbox', 'catch', 'caught', 'cause', 'causes', 'caution', 'ceases', 'ceiling', 'certain', 'certainly', 'certainty', 'chain', 'chair', 'chalk', 'chamber', 'chance', 'change', 'charge', 'charming', 'chased', 'cheating', 'checkmate', 'cheeks', 'chemistry', 'child', 'chill', 'chimney', 'choose', 'chuck', 'ciously', 'circum', 'city', 'civil', 'civilization', 'civilized', 'clad', 'clark', 'clasping', 'classes', 'clay', 'clear', 'cleared', 'clearing', 'clenched', 'client', 'climate', 'clock', 'closed', 'closely', 'club', 'clue', 'coat', 'cocaine', 'cock', 'cocking', 'coffee', 'coincident', 'cold', 'collapsed', 'collection', 'colonel', 'colour', 'come', 'comes', 'comfort', 'coming', 'command', 'commence', 'commencement', 'common', 'community', 'companion', 'compared', 'competence', 'conception', 'concerned', 'condi', 'confederate', 'conjecture', 'conjectured', 'connected', 'connection', 'consciousness', 'consider', 'considerable', 'consideration', 'considering', 'constable', 'contemplation', 'contents', 'continued', 'conviction', 'convinced', 'cook', 'cooped', 'coroner', 'correctly', 'count', 'country', 'courage', 'course', 'court', 'coventry', 'cover', 'covered', 'credit', 'cried', 'crime', 'crony', 'cross', 'crowded', 'crumpled', 'cunning', 'cup', 'cupboard', 'curiosity', 'curse', 'cuvier', 'danger', 'dark', 'darkness', 'date', 'dates', 'day', 'days', 'dead', 'deadliest', 'deadly', 'deal', 'dear', 'death', 'deaths', 'deceased', 'deceive', 'decoyed', 'deduce', 'deduced', 'deduction', 'deed', 'deep', 'deepest', 'deeply', 'defined', 'definite', 'degree', 'delay', 'delicacy', 'depend', 'dependent', 'depressed', 'derived', 'descend', 'described', 'despair', 'destroyed', 'destruction', 'details', 'determination', 'devil', 'devilish', 'devils', 'devoured', 'diary', 'did', 'didn', 'difference', 'different', 'dim', 'direct', 'directed', 'disadvantages', 'disappearance', 'discoloured', 'discuss', 'dislike', 'dispose', 'disposition', 'distance', 'distinctive', 'disturb', 'division', 'dock', 'doctor', 'document', 'does', 'door', 'doubt', 'downward', 'drank', 'draught', 'draughts', 'draw', 'drawing', 'dread', 'dreamlands', 'drew', 'dried', 'driving', 'drove', 'drunken', 'dry', 'dundee', 'duty', 'dweller', 'early', 'earth', 'ease', 'easily', 'east', 'easterly', 'eastern', 'easy', 'eccentric', 'eccentricity', 'edge', 'edged', 'education', 'effect', 'efforts', 'elapsed', 'elbows', 'elemental', 'elements', 'elias', 'embankment', 'emerge', 'emigrated', 'encourage', 'encyclopaedia', 'encyclopaedias', 'end', 'endeav', 'ended', 'ending', 'enemy', 'energy', 'engaged', 'england', 'english', 'enigmatical', 'enjoy', 'enlarged', 'enter', 'entered', 'enters', 'entirely', 'entries', 'enve', 'envelope', 'equinoctial', 'ered', 'error', 'ers', 'escaped', 'essential', 'estate', 'europe', 'evening', 'events', 'eventually', 'evidence', 'evidently', 'evil', 'ex', 'examination', 'examined', 'excellent', 'exception', 'exceptional', 'exchange', 'exclaimed', 'excuse', 'exercise', 'exhibited', 'expect', 'expected', 'experience', 'explanations', 'extend', 'extreme', 'extremely', 'eye', 'eyes', 'face', 'faced', 'fact', 'factory', 'facts', 'fair', 'fallen', 'family', 'fanciful', 'fancy', 'fantastic', 'far', 'fareham', 'farther', 'fashion', 'fate', 'father', 'favour', 'fear', 'feared', 'features', 'febru', 'feeling', 'feet', 'fell', 'fellowmen', 'felt', 'field', 'fields', 'fierce', 'file', 'files', 'finally', 'fine', 'finger', 'finns', 'fireplace', 'fits', 'flap', 'flaw', 'flies', 'floor', 'florida', 'flourished', 'fluffy', 'flush', 'fluttered', 'fly', 'folding', 'follow', 'followed', 'following', 'fond', 'foot', 'footmarks', 'forbid', 'forced', 'forces', 'fordham', 'forebodings', 'foreign', 'foresee', 'foresight', 'forget', 'formed', 'formidable', 'forts', 'fortune', 'forward', 'fought', 'foul', 'founded', 'fourth', 'franchise', 'free', 'freebody', 'frenzy', 'fresh', 'friend', 'friends', 'friendship', 'fulfillment', 'furnished', 'furniture', 'fuss', 'future', 'gain', 'gained', 'gale', 'gales', 'gang', 'garden', 'generally', 'generation', 'gentleman', 'gentlemen', 'geology', 'georgia', 'germans', 'given', 'glad', 'glance', 'glanced', 'glancing', 'glare', 'glared', 'glisten', 'glow', 'gm', 'god', 'going', 'golden', 'gone', 'good', 'goodwins', 'got', 'government', 'grandfather', 'grasp', 'grasped', 'grate', 'gravesend', 'great', 'greater', 'greatest', 'green', 'grew', 'grice', 'grinned', 'gripping', 'groomed', 'guard', 'guilty', 'gum', 'habits', 'half', 'hand', 'hands', 'handsome', 'hangs', 'happened', 'happily', 'hard', 'hardly', 'haste', 'having', 'head', 'headed', 'heading', 'headings', 'health', 'hear', 'heard', 'heart', 'heavily', 'heavy', 'held', 'help', 'helpless', 'helps', 'hereditary', 'hesitation', 'high', 'higher', 'highest', 'hill', 'holder', 'hollow', 'holmes', 'home', 'homeward', 'hood', 'hook', 'hope', 'horror', 'horsham', 'hot', 'hour', 'hours', 'house', 'howl', 'hudson', 'human', 'hungry', 'hurried', 'hurriedly', 'hurrying', 'hurts', 'hypothesis', 'idea', 'ideal', 'ies', 'illustrate', 'imbecility', 'imminent', 'implacable', 'implicate', 'implies', 'imploring', 'importance', 'important', 'impossible', 'impression', 'impunity', 'incident', 'incidents', 'inclined', 'incredible', 'indexing', 'india', 'indicated', 'individual', 'inexorable', 'inexplicable', 'informed', 'ing', 'inheritance', 'initials', 'ink', 'inner', 'inquir', 'inquired', 'inside', 'inspector', 'instant', 'instantly', 'interesting', 'interposed', 'intruding', 'invariably', 'invention', 'island', 'isle', 'item', 'jackson', 'james', 'january', 'john', 'joke', 'jokes', 'joseph', 'jumped', 'junkies', 'jury', 'just', 'keen', 'kept', 'key', 'keyhole', 'keys', 'kind', 'kindly', 'klan', 'klux', 'knee', 'knew', 'know', 'knowledge', 'known', 'ku', 'label', 'laid', 'lamp', 'land', 'landing', 'landlady', 'large', 'late', 'later', 'laugh', 'laughed', 'laughing', 'law', 'lawyer', 'lay', 'laying', 'lead', 'leader', 'leaning', 'learn', 'learned', 'leave', 'leaves', 'leaving', 'led', 'lee', 'left', 'lengthen', 'let', 'letter', 'letters', 'library', 'lid', 'lies', 'life', 'lifted', 'light', 'like', 'liked', 'likely', 'limits', 'line', 'ling', 'link', 'lip', 'lips', 'lis', 'listened', 'lit', 'literature', 'little', 'live', 'lived', 'lives', 'll', 'lloyd', 'loading', 'loaf', 'local', 'lock', 'locked', 'logical', 'london', 'lone', 'lonely', 'long', 'longer', 'looked', 'looking', 'looks', 'lope', 'lose', 'loss', 'lost', 'louder', 'louisiana', 'love', 'lower', 'lumber', 'luxurious', 'lying', 'mad', 'maid', 'mail', 'main', 'major', 'make', 'man', 'mankind', 'manner', 'march', 'margins', 'mark', 'marked', 'mary', 'mass', 'master', 'mates', 'matter', 'mccauley', 'mean', 'means', 'meantime', 'meet', 'melon', 'memoranda', 'memory', 'men', 'mendicant', 'ment', 'mention', 'message', 'met', 'methods', 'miles', 'mind', 'minds', 'minutes', 'mise', 'miserable', 'missed', 'mission', 'mixture', 'moisture', 'moment', 'money', 'months', 'moodily', 'morning', 'morrow', 'mother', 'mouthed', 'moved', 'movement', 'mr', 'mud', 'murder', 'murderers', 'murdering', 'muster', 'mysterious', 'mystery', 'nah', 'names', 'narratives', 'native', 'nature', 'near', 'nearly', 'necessary', 'need', 'negro', 'negroes', 'neighbourhood', 'nervous', 'new', 'newcomer', 'newly', 'news', 'newspaper', 'nez', 'nigh', 'night', 'nonsense', 'north', 'notably', 'note', 'notes', 'notice', 'noticed', 'notices', 'number', 'oak', 'oath', 'object', 'observe', 'observed', 'observer', 'obstinate', 'obviously', 'occasion', 'offered', 'oh', 'old', 'ones', 'open', 'opened', 'opening', 'openly', 'openshaw', 'opinion', 'opposed', 'opposing', 'orange', 'order', 'ordered', 'orders', 'ordinary', 'organization', 'origin', 'oured', 'outbreaks', 'outrages', 'outside', 'outstretched', 'overcoat', 'overtaken', 'owe', 'paced', 'page', 'paid', 'pains', 'pale', 'palm', 'palpitating', 'paper', 'papers', 'paradol', 'paramore', 'partially', 'particular', 'parties', 'parts', 'passage', 'passed', 'passers', 'past', 'pat', 'patentee', 'patersons', 'path', 'patience', 'pattered', 'peace', 'peculiar', 'peeped', 'peeping', 'pen', 'perfect', 'perils', 'permit', 'perpetrators', 'persecution', 'person', 'personal', 'persons', 'persuade', 'petty', 'philosophy', 'piece', 'pieces', 'pince', 'pipe', 'pips', 'pit', 'pitch', 'pits', 'place', 'placed', 'places', 'plans', 'plantation', 'planter', 'plate', 'platform', 'player', 'playing', 'plot', 'pocket', 'point', 'points', 'poisoner', 'poisoning', 'police', 'policeman', 'policy', 'political', 'politicians', 'politics', 'pondered', 'pondicherry', 'pooh', 'pool', 'poor', 'port', 'portsdown', 'possess', 'possessed', 'possession', 'possible', 'post', 'postmark', 'postmarks', 'pounds', 'power', 'powering', 'practical', 'pray', 'precautions', 'preceded', 'precise', 'precursor', 'prendergast', 'preposterous', 'presence', 'present', 'presently', 'pressing', 'presume', 'presumption', 'pride', 'principally', 'printed', 'privacy', 'private', 'probability', 'probable', 'probably', 'problems', 'proceed', 'produced', 'professional', 'profound', 'proof', 'property', 'protruding', 'prove', 'proved', 'provincial', 'publicity', 'pulled', 'pulling', 'punish', 'purpose', 'purposes', 'pursue', 'pushed', 'putty', 'puzzled', 'qualities', 'quarters', 'question', 'quick', 'quickly', 'quite', 'rabbits', 'radic', 'ragged', 'rain', 'raise', 'raised', 'raising', 'ran', 'rapidly', 'rare', 'raved', 'rea', 'reabsorbed', 'reached', 'reaches', 'read', 'readily', 'ready', 'real', 'really', 'reason', 'reasoner', 'receipts', 'receive', 'received', 'receiving', 'reception', 'recognize', 'recognized', 'reconstruction', 'record', 'records', 'recov', 'recovered', 'red', 'refine', 'regard', 'regards', 'region', 'regis', 'register', 'relations', 'relentless', 'remain', 'remained', 'remains', 'remark', 'remarkable', 'remarked', 'remem', 'remember', 'remembered', 'remove', 'repeated', 'reported', 'representative', 'represented', 'republican', 'repute', 'request', 'rescue', 'resem', 'residence', 'resistless', 'resolute', 'resource', 'resources', 'rest', 'rested', 'result', 'results', 'retain', 'retire', 'retired', 'retiring', 'return', 'returned', 'returning', 'revenge', 'revolver', 'rifle', 'right', 'rightly', 'ring', 'rings', 'rising', 'river', 'riverside', 'roads', 'robbery', 'room', 'roots', 'rose', 'round', 'routine', 'rpgnet', 'rummaged', 'run', 'rush', 'russell', 'rusty', 'safety', 'said', 'sailing', 'sallies', 'sallow', 'sank', 'sat', 'savan', 'savannah', 'save', 'saved', 'saw', 'say', 'scandal', 'scared', 'scattered', 'scrawled', 'screamed', 'screaming', 'scummed', 'sea', 'sealed', 'seaports', 'search', 'searched', 'second', 'secret', 'seeds', 'seek', 'seen', 'self', 'sell', 'send', 'senders', 'sends', 'seni', 'sensation', 'sensational', 'senseless', 'senses', 'sent', 'september', 'series', 'servants', 'set', 'seven', 'severe', 'shake', 'shaken', 'shall', 'shape', 'sharp', 'shattered', 'sheep', 'sheet', 'shelf', 'sherlock', 'shining', 'ship', 'ships', 'sholtos', 'shook', 'shoulder', 'showed', 'shown', 'shows', 'shriek', 'shrieked', 'sight', 'sign', 'signed', 'signs', 'silence', 'single', 'singular', 'sinister', 'sinking', 'sins', 'sir', 'sit', 'site', 'sitting', 'situation', 'sixteen', 'sketch', 'skill', 'skin', 'skull', 'sleep', 'sleepless', 'small', 'smile', 'smoke', 'smoked', 'snake', 'snug', 'sobbed', 'sober', 'society', 'soldier', 'soldiers', 'solitude', 'solution', 'solve', 'solved', 'somewhat', 'son', 'sons', 'soon', 'sophy', 'sorry', 'sort', 'sought', 'soul', 'sound', 'south', 'southern', 'spare', 'speak', 'spend', 'spent', 'spirits', 'spite', 'splash', 'splashed', 'spo', 'spoke', 'sprang', 'sprig', 'spun', 'squeezed', 'st', 'stages', 'stains', 'stair', 'stammered', 'stamp', 'stances', 'stands', 'star', 'start', 'starting', 'startling', 'starving', 'state', 'stated', 'statement', 'states', 'station', 'stay', 'steamboats', 'steamer', 'step', 'steps', 'stern', 'stevedore', 'stocked', 'stood', 'stories', 'storm', 'stormy', 'story', 'strange', 'strangers', 'streaming', 'street', 'streets', 'stretched', 'strong', 'struck', 'study', 'subdued', 'submitted', 'succeeded', 'success', 'successes', 'successful', 'successive', 'successors', 'sudden', 'suddenly', 'suggest', 'suggestive', 'suggests', 'suicide', 'sun', 'sundial', 'sundials', 'sunk', 'suppose', 'supposed', 'sur', 'sure', 'surely', 'surprise', 'suspicion', 'sussex', 'swain', 'swash', 'swinging', 'swordsman', 'systematic', 'table', 'taken', 'tankerville', 'tapping', 'tear', 'tearing', 'telegram', 'tell', 'tempered', 'tempted', 'tened', 'tennessee', 'tered', 'terrible', 'terror', 'terrorizing', 'ters', 'texas', 'text', 'thank', 'theirs', 'thing', 'things', 'think', 'thirty', 'thoroughly', 'thought', 'threat', 'threatened', 'threatens', 'thrust', 'tide', 'time', 'times', 'tinted', 'tion', 'tips', 'tire', 'tobacco', 'toe', 'token', 'told', 'tomfoolery', 'tonnage', 'took', 'torn', 'touched', 'town', 'trace', 'traced', 'traces', 'track', 'trade', 'tradespeople', 'tragedy', 'train', 'travel', 'treble', 'trembling', 'trimly', 'troubles', 'trough', 'true', 'trunks', 'trust', 'truth', 'try', 'tumultuously', 'turn', 'turned', 'turning', 'tut', 'twilight', 'uffa', 'umbrella', 'unable', 'unavenged', 'unbreakable', 'unburned', 'unclasping', 'uncle', 'uncontrollable', 'understand', 'understood', 'undoubtedly', 'unfailingly', 'unfenced', 'unforeseen', 'unfortunate', 'unhappy', 'union', 'unique', 'united', 'unknown', 'unopened', 'unsystematic', 'untamed', 'urged', 'urgency', 'use', 'used', 'useful', 'usual', 'usually', 'utilize', 'vacant', 'vague', 'vain', 'variable', 'vault', 'veil', 'verdict', 'vessel', 'vessels', 'victim', 'views', 'violence', 'violin', 'visit', 'visited', 'visitor', 'visitors', 'vital', 'voice', 'volume', 'vora', 'vot', 'waistcoat', 'waited', 'waiting', 'walked', 'walking', 'want', 'wanted', 'wants', 'war', 'warehouse', 'warning', 'warnings', 'washing', 'watch', 'watched', 'water', 'waterloo', 'waterproof', 'watson', 'wave', 'waves', 'way', 'ways', 'weather', 'weave', 'web', 'weed', 'week', 'weeks', 'weighed', 'went', 'west', 'wet', 'white', 'wife', 'wight', 'wild', 'willingly', 'win', 'winced', 'wind', 'winding', 'windows', 'wired', 'wish', 'witness', 'woman', 'won', 'wonder', 'words', 'work', 'working', 'worn', 'wound', 'woven', 'writer', 'writhing', 'writing', 'written', 'wrong', 'wrongfully', 'wrote', 'year', 'years', 'yes', 'yesterday', 'young', 'youngster', 'zero']\n",
      "\n",
      "result\n",
      "  (1, 411)\t1\n",
      "  (2, 400)\t1\n",
      "  (3, 10)\t1\n",
      "  (3, 14)\t1\n",
      "  (3, 12)\t1\n",
      "  (4, 3)\t1\n",
      "  (5, 10)\t1\n",
      "  (5, 14)\t1\n",
      "  (5, 13)\t1\n",
      "  (7, 114)\t1\n",
      "  (9, 1415)\t1\n",
      "  (10, 519)\t1\n",
      "  (11, 731)\t1\n",
      "  (12, 1189)\t1\n",
      "  (13, 597)\t1\n",
      "  (14, 519)\t1\n",
      "  (15, 75)\t1\n",
      "  (16, 1275)\t1\n",
      "  (20, 942)\t1\n",
      "  (21, 1002)\t1\n",
      "  (24, 590)\t1\n",
      "  (27, 916)\t1\n",
      "  (29, 1125)\t1\n",
      "  (32, 1251)\t1\n",
      "  (33, 657)\t1\n",
      "  :\t:\n",
      "  (7348, 814)\t1\n",
      "  (7350, 907)\t1\n",
      "  (7353, 812)\t1\n",
      "  (7354, 1334)\t1\n",
      "  (7356, 1203)\t1\n",
      "  (7360, 1107)\t1\n",
      "  (7363, 369)\t1\n",
      "  (7366, 640)\t1\n",
      "  (7369, 500)\t1\n",
      "  (7373, 91)\t1\n",
      "  (7375, 1247)\t1\n",
      "  (7376, 1349)\t1\n",
      "  (7376, 1039)\t1\n",
      "  (7379, 145)\t1\n",
      "  (7381, 1224)\t1\n",
      "  (7382, 1394)\t1\n",
      "  (7385, 1458)\t1\n",
      "  (7388, 1543)\t1\n",
      "  (7391, 779)\t1\n",
      "  (7394, 203)\t1\n",
      "  (7403, 1244)\t1\n",
      "  (7405, 745)\t1\n",
      "  (7408, 504)\t1\n",
      "  (7411, 812)\t1\n",
      "  (7412, 1334)\t1\n"
     ]
    },
    {
     "name": "stderr",
     "output_type": "stream",
     "text": [
      "c:\\Users\\Nafarul Hamka\\anaconda4\\lib\\site-packages\\sklearn\\utils\\deprecation.py:87: FutureWarning: Function get_feature_names is deprecated; get_feature_names is deprecated in 1.0 and will be removed in 1.2. Please use get_feature_names_out instead.\n",
      "  warnings.warn(msg, category=FutureWarning)\n"
     ]
    }
   ],
   "source": [
    "z=open(\"orange.txt\",\"r\")\n",
    "data = z.read().split()\n",
    "data1 = z.read().splitlines()\n",
    "\n",
    "\n",
    "\n",
    "from urllib import response\n",
    "from sklearn.feature_extraction.text import CountVectorizer\n",
    "\n",
    "vectorizer = CountVectorizer(stop_words='english')\n",
    "response = vectorizer.fit_transform(data)\n",
    "features = vectorizer.get_feature_names()\n",
    "print(data1)\n",
    "print(\"\")\n",
    "print(features)\n",
    "print(\"\")\n",
    "print(\"result\")\n",
    "\n",
    "print(response)\n"
   ]
  },
  {
   "cell_type": "code",
   "execution_count": null,
   "metadata": {},
   "outputs": [],
   "source": []
  }
 ],
 "metadata": {
  "kernelspec": {
   "display_name": "Python 3.9.12 ('base')",
   "language": "python",
   "name": "python3"
  },
  "language_info": {
   "codemirror_mode": {
    "name": "ipython",
    "version": 3
   },
   "file_extension": ".py",
   "mimetype": "text/x-python",
   "name": "python",
   "nbconvert_exporter": "python",
   "pygments_lexer": "ipython3",
   "version": "3.9.12"
  },
  "orig_nbformat": 4,
  "vscode": {
   "interpreter": {
    "hash": "b89b54078b34c0ab6b841a61ed06b5e1d13bc42b22b435fcbb2c30113e5b3e51"
   }
  }
 },
 "nbformat": 4,
 "nbformat_minor": 2
}
